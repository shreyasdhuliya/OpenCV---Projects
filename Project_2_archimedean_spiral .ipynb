{
 "cells": [
  {
   "cell_type": "code",
   "execution_count": 1,
   "metadata": {},
   "outputs": [],
   "source": [
    "import cv2\n",
    "import numpy as np"
   ]
  },
  {
   "cell_type": "code",
   "execution_count": 2,
   "metadata": {},
   "outputs": [],
   "source": [
    "gray = cv2.imread(\"ayu.png\",0)"
   ]
  },
  {
   "cell_type": "code",
   "execution_count": 3,
   "metadata": {},
   "outputs": [
    {
     "data": {
      "text/plain": [
       "(900, 900)"
      ]
     },
     "execution_count": 3,
     "metadata": {},
     "output_type": "execute_result"
    }
   ],
   "source": [
    "gray.shape"
   ]
  },
  {
   "cell_type": "code",
   "execution_count": 4,
   "metadata": {},
   "outputs": [],
   "source": [
    "cv2.imshow('ana',gray)\n",
    "cv2.waitKey(0)\n",
    "cv2.destroyAllWindows()"
   ]
  },
  {
   "cell_type": "code",
   "execution_count": 5,
   "metadata": {},
   "outputs": [],
   "source": [
    "fourcc = cv2.VideoWriter_fourcc(*'XVID')\n",
    "out = cv2.VideoWriter('ayu.avi',fourcc, 40.0, (900,900))"
   ]
  },
  {
   "cell_type": "code",
   "execution_count": 6,
   "metadata": {},
   "outputs": [],
   "source": [
    "#https://rosettacode.org/wiki/Archimedean_spiral#Python\n",
    "font = cv2.FONT_HERSHEY_SCRIPT_SIMPLEX\n",
    "canvas = np.ones((900,900), np.uint8)*250\n",
    "import math\n",
    "x = np.zeros((550000))\n",
    "y = np.zeros((550000))\n",
    "shifty = 430\n",
    "shiftx = 450\n",
    "count = 0\n",
    "for i in range(550000):\n",
    "    t = i / 4000 * math.pi\n",
    "    x[i] = (.1 + 1 * t) * np.cos(t)\n",
    "    y[i] = (.1 + 1 * t) * np.sin(t)\n",
    "    try:\n",
    "        for j in range(3):\n",
    "            for k in range(3):\n",
    "                count += 1\n",
    "                canvas[int(round(x[i]) + shifty +j)][int(round(y[i]) + shiftx +k)] = gray[int(round(x[i]) + shifty +j)][int(round(y[i]) + shiftx +k)]\n",
    "    except:\n",
    "        pass   \n",
    "    \n",
    "    if count%700 == 0:\n",
    "        canvas2 = cv2.cvtColor(canvas, cv2.COLOR_GRAY2RGB)\n",
    "        #cv2.putText(canvas2,'Happy Birthday',(30,850), font, 3,(20,20,20),2,cv2.LINE_AA)\n",
    "        out.write(canvas2)\n",
    "for i in range(180):\n",
    "    canvas2 = cv2.cvtColor(canvas, cv2.COLOR_GRAY2RGB)\n",
    "    #cv2.putText(canvas2,'Happy Birthday',(30,850), font, 3,(20,20,20),2,cv2.LINE_AA)\n",
    "    out.write(canvas2)\n",
    "out.release()"
   ]
  },
  {
   "cell_type": "code",
   "execution_count": 7,
   "metadata": {},
   "outputs": [],
   "source": [
    "cv2.imshow('Canvas',canvas)\n",
    "cv2.waitKey(0)\n",
    "cv2.destroyAllWindows()"
   ]
  },
  {
   "cell_type": "code",
   "execution_count": 8,
   "metadata": {},
   "outputs": [
    {
     "data": {
      "text/plain": [
       "427.3577708090449"
      ]
     },
     "execution_count": 8,
     "metadata": {},
     "output_type": "execute_result"
    }
   ],
   "source": [
    "x.max()"
   ]
  },
  {
   "cell_type": "code",
   "execution_count": 9,
   "metadata": {},
   "outputs": [
    {
     "data": {
      "text/plain": [
       "(900, 900, 3)"
      ]
     },
     "execution_count": 9,
     "metadata": {},
     "output_type": "execute_result"
    }
   ],
   "source": [
    "canvas2.shape"
   ]
  },
  {
   "cell_type": "code",
   "execution_count": 10,
   "metadata": {},
   "outputs": [],
   "source": [
    "gray_blur = cv2.GaussianBlur(gray,(7,11),0)"
   ]
  },
  {
   "cell_type": "code",
   "execution_count": 11,
   "metadata": {},
   "outputs": [],
   "source": [
    "cv2.imshow('Canvas',gray2)\n",
    "cv2.waitKey(0)\n",
    "cv2.destroyAllWindows()"
   ]
  },
  {
   "cell_type": "code",
   "execution_count": 12,
   "metadata": {},
   "outputs": [],
   "source": [
    "fourcc = cv2.VideoWriter_fourcc(*'XVID')\n",
    "out2 = cv2.VideoWriter('ayu_line.avi',fourcc, 40.0, (900,900))"
   ]
  },
  {
   "cell_type": "code",
   "execution_count": 13,
   "metadata": {},
   "outputs": [],
   "source": [
    "#https://rosettacode.org/wiki/Archimedean_spiral#Python\n",
    "font = cv2.FONT_HERSHEY_SCRIPT_SIMPLEX\n",
    "canvas = np.ones((900,900), np.uint8)*250\n",
    "import math\n",
    "x = np.zeros((460000))\n",
    "y = np.zeros((460000))\n",
    "shifty = 430\n",
    "shiftx = 450\n",
    "count = 0\n",
    "for i in range(460000):\n",
    "    t = i / 4000 * math.pi\n",
    "    x[i] = (.1 + 1.1 * t) * np.cos(t)\n",
    "    y[i] = (.1 + 1.1 * t) * np.sin(t)\n",
    "    try:\n",
    "        pixel_value = gray_blur[int(round(x[i]) + shifty)][int(round(y[i]) + shiftx)]\n",
    "        count += 1\n",
    "        if pixel_value >= 0 and pixel_value <= 63:\n",
    "            width = 4\n",
    "        elif pixel_value >= 64 and pixel_value <= 127:\n",
    "            width = 3\n",
    "        elif pixel_value >= 128 and pixel_value <= 191:\n",
    "            width = 2\n",
    "        else:\n",
    "            width = 1\n",
    "            \n",
    "        for j in range(width):\n",
    "            for k in range(width):\n",
    "                \n",
    "                canvas[int(round(x[i]) + shifty +j)][int(round(y[i]) + shiftx +k)] = 90\n",
    "    except:\n",
    "        pass\n",
    "\n",
    "    if count%220 == 0:\n",
    "        canvas2 = cv2.cvtColor(canvas, cv2.COLOR_GRAY2RGB)\n",
    "        #cv2.putText(canvas2,'Happy Birthday',(30,850), font, 3,(20,20,20),2,cv2.LINE_AA)\n",
    "        out2.write(canvas2)\n",
    "for i in range(130):\n",
    "    canvas2 = cv2.cvtColor(canvas, cv2.COLOR_GRAY2RGB)\n",
    "    #cv2.putText(canvas2,'Happy Birthday',(30,850), font, 3,(20,20,20),2,cv2.LINE_AA)\n",
    "    out2.write(canvas2)\n",
    "out2.release()"
   ]
  },
  {
   "cell_type": "code",
   "execution_count": 14,
   "metadata": {},
   "outputs": [],
   "source": [
    "cv2.imshow('Canvas',canvas)\n",
    "cv2.waitKey(0)\n",
    "cv2.destroyAllWindows()"
   ]
  },
  {
   "cell_type": "code",
   "execution_count": 18,
   "metadata": {},
   "outputs": [],
   "source": [
    "fourcc = cv2.VideoWriter_fourcc(*'XVID')\n",
    "out3 = cv2.VideoWriter('ayu_line_profilepic.avi',fourcc, 40.0, (900,900))"
   ]
  },
  {
   "cell_type": "code",
   "execution_count": 19,
   "metadata": {},
   "outputs": [
    {
     "ename": "KeyboardInterrupt",
     "evalue": "",
     "output_type": "error",
     "traceback": [
      "\u001b[1;31m---------------------------------------------------------------------------\u001b[0m",
      "\u001b[1;31mKeyboardInterrupt\u001b[0m                         Traceback (most recent call last)",
      "\u001b[1;32m<ipython-input-19-4cae6f0c9925>\u001b[0m in \u001b[0;36m<module>\u001b[1;34m()\u001b[0m\n\u001b[0;32m      8\u001b[0m \u001b[1;32mwhile\u001b[0m \u001b[1;33m(\u001b[0m\u001b[0mcap\u001b[0m\u001b[1;33m.\u001b[0m\u001b[0misOpened\u001b[0m\u001b[1;33m(\u001b[0m\u001b[1;33m)\u001b[0m\u001b[1;33m)\u001b[0m\u001b[1;33m:\u001b[0m\u001b[1;33m\u001b[0m\u001b[1;33m\u001b[0m\u001b[0m\n\u001b[0;32m      9\u001b[0m \u001b[1;33m\u001b[0m\u001b[0m\n\u001b[1;32m---> 10\u001b[1;33m     \u001b[0mret\u001b[0m\u001b[1;33m,\u001b[0m\u001b[0mframe\u001b[0m \u001b[1;33m=\u001b[0m \u001b[0mcap\u001b[0m\u001b[1;33m.\u001b[0m\u001b[0mread\u001b[0m\u001b[1;33m(\u001b[0m\u001b[1;33m)\u001b[0m\u001b[1;33m\u001b[0m\u001b[1;33m\u001b[0m\u001b[0m\n\u001b[0m\u001b[0;32m     11\u001b[0m     \u001b[1;31m#if waitkey is 1000, it will run the loop every 1000 milli sec making it very slow\u001b[0m\u001b[1;33m\u001b[0m\u001b[1;33m\u001b[0m\u001b[1;33m\u001b[0m\u001b[0m\n\u001b[0;32m     12\u001b[0m     \u001b[0mout3\u001b[0m\u001b[1;33m.\u001b[0m\u001b[0mwrite\u001b[0m\u001b[1;33m(\u001b[0m\u001b[0mframe\u001b[0m\u001b[1;33m)\u001b[0m\u001b[1;33m\u001b[0m\u001b[1;33m\u001b[0m\u001b[0m\n",
      "\u001b[1;31mKeyboardInterrupt\u001b[0m: "
     ]
    }
   ],
   "source": [
    "import numpy as np\n",
    "import cv2\n",
    "cap = cv2.VideoCapture('ayu_line.avi')\n",
    "#for i in range(80):\n",
    "#    out3.write(canvas2)\n",
    "\n",
    "#while video is not completed\n",
    "while (cap.isOpened()):\n",
    "    \n",
    "    ret,frame = cap.read()\n",
    "    #if waitkey is 1000, it will run the loop every 1000 milli sec making it very slow\n",
    "    out3.write(frame)\n",
    "out3.release()\n",
    "cap.release()"
   ]
  },
  {
   "cell_type": "code",
   "execution_count": null,
   "metadata": {},
   "outputs": [],
   "source": [
    "5//2"
   ]
  },
  {
   "cell_type": "code",
   "execution_count": null,
   "metadata": {},
   "outputs": [],
   "source": []
  }
 ],
 "metadata": {
  "kernelspec": {
   "display_name": "Python 3",
   "language": "python",
   "name": "python3"
  },
  "language_info": {
   "codemirror_mode": {
    "name": "ipython",
    "version": 3
   },
   "file_extension": ".py",
   "mimetype": "text/x-python",
   "name": "python",
   "nbconvert_exporter": "python",
   "pygments_lexer": "ipython3",
   "version": "3.6.8"
  }
 },
 "nbformat": 4,
 "nbformat_minor": 2
}
