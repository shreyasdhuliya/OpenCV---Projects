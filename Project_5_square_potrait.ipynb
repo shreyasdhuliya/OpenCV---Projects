{
 "cells": [
  {
   "cell_type": "code",
   "execution_count": 1,
   "metadata": {},
   "outputs": [],
   "source": [
    "def average(i,j,n,bgr,sp):\n",
    "    add = 0\n",
    "    for e in range(i+sp,i+n-sp):\n",
    "        for f in range(j+sp,j+n-sp):\n",
    "            add = add + rgb_img[e,f,bgr]\n",
    "    add = add/(n*n)\n",
    "    return add\n",
    "            "
   ]
  },
  {
   "cell_type": "code",
   "execution_count": 3,
   "metadata": {},
   "outputs": [
    {
     "name": "stdout",
     "output_type": "stream",
     "text": [
      "(1441, 1087)\n"
     ]
    },
    {
     "data": {
      "text/plain": [
       "True"
      ]
     },
     "execution_count": 3,
     "metadata": {},
     "output_type": "execute_result"
    }
   ],
   "source": [
    "import cv2\n",
    "import numpy as np\n",
    "import matplotlib.pyplot as plt\n",
    "%matplotlib inline\n",
    "n= 25\n",
    "n2 = 40\n",
    "sp = 1\n",
    "bgr_img = cv2.imread('butterfly.png')\n",
    "\n",
    "b,g,r = cv2.split(bgr_img)   \n",
    "rows,cols = b.shape\n",
    "rgb_img = cv2.merge([b,g,r])  \n",
    "for i in range(1,rows - n,n):\n",
    "    for j in range(1,cols- n,n):\n",
    "        b_avg = average(i,j,n,0,sp)\n",
    "        g_avg = average(i,j,n,1,sp)\n",
    "        r_avg = average(i,j,n,2,sp)\n",
    "        for k in range(i+sp,i+n-sp):\n",
    "            for l in range(j+sp,j+n-sp):\n",
    "                rgb_img[k,l,0] = (b_avg//n2)*n2 +30\n",
    "                rgb_img[k,l,1] = (g_avg//n2)*n2 +30\n",
    "                rgb_img[k,l,2] = (r_avg//n2)*n2 +30\n",
    "        for space in range(i,i+n):\n",
    "            rgb_img[space,j,0] = 255\n",
    "            rgb_img[space,j,1] = 255\n",
    "            rgb_img[space,j,2] = 255\n",
    "        for space2 in range(j,j+n):\n",
    "            rgb_img[i,space2,0] = 255\n",
    "            rgb_img[i,space2,1] = 255\n",
    "            rgb_img[i,space2,2] = 255\n",
    "                        \n",
    "\n",
    "cv2.imshow('rgb_img',rgb_img)\n",
    "cv2.waitKey(0)\n",
    "cv2.destroyAllWindows() \n",
    "print(b.shape)\n",
    "cv2.imwrite('05555.png',rgb_img)\n"
   ]
  },
  {
   "cell_type": "code",
   "execution_count": null,
   "metadata": {},
   "outputs": [],
   "source": []
  }
 ],
 "metadata": {
  "kernelspec": {
   "display_name": "Python 3",
   "language": "python",
   "name": "python3"
  },
  "language_info": {
   "codemirror_mode": {
    "name": "ipython",
    "version": 3
   },
   "file_extension": ".py",
   "mimetype": "text/x-python",
   "name": "python",
   "nbconvert_exporter": "python",
   "pygments_lexer": "ipython3",
   "version": "3.6.8"
  }
 },
 "nbformat": 4,
 "nbformat_minor": 2
}
